{
 "cells": [
  {
   "cell_type": "code",
   "execution_count": 1,
   "id": "1a9570e1-5ac1-44af-ae58-9210cab53113",
   "metadata": {},
   "outputs": [],
   "source": [
    "import numpy as np\n",
    "import pandas as pd\n",
    "from scipy.stats import mannwhitneyu\n",
    "from scipy.stats import ttest_ind\n",
    "from scipy.stats import norm\n",
    "import matplotlib.pyplot as plt\n",
    "import seaborn as sns\n",
    "from tqdm.auto import tqdm\n",
    "import seaborn as sns\n",
    "from scipy.stats import pearsonr\n",
    "from scipy.stats import shapiro"
   ]
  },
  {
   "cell_type": "code",
   "execution_count": 3,
   "id": "4caca2d1-2748-40d4-86d1-33df3bf5f88d",
   "metadata": {},
   "outputs": [],
   "source": [
    "path = '/Users/xueyining/Downloads/ab_testing.csv'\n",
    "df = pd.read_csv(path)"
   ]
  },
  {
   "cell_type": "code",
   "execution_count": 5,
   "id": "dcf7b8e3-fe37-4b24-8854-e061030656ca",
   "metadata": {},
   "outputs": [
    {
     "data": {
      "text/html": [
       "<div>\n",
       "<style scoped>\n",
       "    .dataframe tbody tr th:only-of-type {\n",
       "        vertical-align: middle;\n",
       "    }\n",
       "\n",
       "    .dataframe tbody tr th {\n",
       "        vertical-align: top;\n",
       "    }\n",
       "\n",
       "    .dataframe thead th {\n",
       "        text-align: right;\n",
       "    }\n",
       "</style>\n",
       "<table border=\"1\" class=\"dataframe\">\n",
       "  <thead>\n",
       "    <tr style=\"text-align: right;\">\n",
       "      <th></th>\n",
       "      <th>User ID</th>\n",
       "      <th>Group</th>\n",
       "      <th>Page Views</th>\n",
       "      <th>Time Spent</th>\n",
       "      <th>Conversion</th>\n",
       "      <th>Device</th>\n",
       "      <th>Location</th>\n",
       "    </tr>\n",
       "  </thead>\n",
       "  <tbody>\n",
       "    <tr>\n",
       "      <th>0</th>\n",
       "      <td>14292</td>\n",
       "      <td>B</td>\n",
       "      <td>3</td>\n",
       "      <td>424</td>\n",
       "      <td>No</td>\n",
       "      <td>Mobile</td>\n",
       "      <td>Northern Ireland</td>\n",
       "    </tr>\n",
       "    <tr>\n",
       "      <th>1</th>\n",
       "      <td>11682</td>\n",
       "      <td>A</td>\n",
       "      <td>9</td>\n",
       "      <td>342</td>\n",
       "      <td>No</td>\n",
       "      <td>Mobile</td>\n",
       "      <td>Scotland</td>\n",
       "    </tr>\n",
       "    <tr>\n",
       "      <th>2</th>\n",
       "      <td>19825</td>\n",
       "      <td>A</td>\n",
       "      <td>2</td>\n",
       "      <td>396</td>\n",
       "      <td>No</td>\n",
       "      <td>Desktop</td>\n",
       "      <td>Northern Ireland</td>\n",
       "    </tr>\n",
       "    <tr>\n",
       "      <th>3</th>\n",
       "      <td>16080</td>\n",
       "      <td>B</td>\n",
       "      <td>4</td>\n",
       "      <td>318</td>\n",
       "      <td>No</td>\n",
       "      <td>Desktop</td>\n",
       "      <td>Wales</td>\n",
       "    </tr>\n",
       "    <tr>\n",
       "      <th>4</th>\n",
       "      <td>18851</td>\n",
       "      <td>A</td>\n",
       "      <td>1</td>\n",
       "      <td>338</td>\n",
       "      <td>Yes</td>\n",
       "      <td>Desktop</td>\n",
       "      <td>Scotland</td>\n",
       "    </tr>\n",
       "  </tbody>\n",
       "</table>\n",
       "</div>"
      ],
      "text/plain": [
       "   User ID Group  Page Views  Time Spent Conversion   Device          Location\n",
       "0    14292     B           3         424         No   Mobile  Northern Ireland\n",
       "1    11682     A           9         342         No   Mobile          Scotland\n",
       "2    19825     A           2         396         No  Desktop  Northern Ireland\n",
       "3    16080     B           4         318         No  Desktop             Wales\n",
       "4    18851     A           1         338        Yes  Desktop          Scotland"
      ]
     },
     "execution_count": 5,
     "metadata": {},
     "output_type": "execute_result"
    }
   ],
   "source": [
    "df.head()"
   ]
  },
  {
   "cell_type": "code",
   "execution_count": 7,
   "id": "0c574ffb-06ef-48c3-830d-f3af19ede497",
   "metadata": {},
   "outputs": [
    {
     "data": {
      "text/plain": [
       "User ID       5000\n",
       "Group            2\n",
       "Page Views      14\n",
       "Time Spent     410\n",
       "Conversion       2\n",
       "Device           2\n",
       "Location         4\n",
       "dtype: int64"
      ]
     },
     "execution_count": 7,
     "metadata": {},
     "output_type": "execute_result"
    }
   ],
   "source": [
    "df.nunique()"
   ]
  },
  {
   "cell_type": "code",
   "execution_count": 9,
   "id": "31f7c781-1879-427f-82e4-f9741698f3b9",
   "metadata": {},
   "outputs": [
    {
     "data": {
      "text/html": [
       "<div>\n",
       "<style scoped>\n",
       "    .dataframe tbody tr th:only-of-type {\n",
       "        vertical-align: middle;\n",
       "    }\n",
       "\n",
       "    .dataframe tbody tr th {\n",
       "        vertical-align: top;\n",
       "    }\n",
       "\n",
       "    .dataframe thead th {\n",
       "        text-align: right;\n",
       "    }\n",
       "</style>\n",
       "<table border=\"1\" class=\"dataframe\">\n",
       "  <thead>\n",
       "    <tr style=\"text-align: right;\">\n",
       "      <th></th>\n",
       "      <th>User ID</th>\n",
       "      <th>Page Views</th>\n",
       "      <th>Time Spent</th>\n",
       "    </tr>\n",
       "  </thead>\n",
       "  <tbody>\n",
       "    <tr>\n",
       "      <th>count</th>\n",
       "      <td>5000.000000</td>\n",
       "      <td>5000.000000</td>\n",
       "      <td>5000.000000</td>\n",
       "    </tr>\n",
       "    <tr>\n",
       "      <th>mean</th>\n",
       "      <td>14925.159000</td>\n",
       "      <td>7.537600</td>\n",
       "      <td>242.512600</td>\n",
       "    </tr>\n",
       "    <tr>\n",
       "      <th>std</th>\n",
       "      <td>2869.153773</td>\n",
       "      <td>4.022465</td>\n",
       "      <td>118.254153</td>\n",
       "    </tr>\n",
       "    <tr>\n",
       "      <th>min</th>\n",
       "      <td>10001.000000</td>\n",
       "      <td>1.000000</td>\n",
       "      <td>40.000000</td>\n",
       "    </tr>\n",
       "    <tr>\n",
       "      <th>25%</th>\n",
       "      <td>12456.250000</td>\n",
       "      <td>4.000000</td>\n",
       "      <td>137.000000</td>\n",
       "    </tr>\n",
       "    <tr>\n",
       "      <th>50%</th>\n",
       "      <td>14858.500000</td>\n",
       "      <td>8.000000</td>\n",
       "      <td>243.000000</td>\n",
       "    </tr>\n",
       "    <tr>\n",
       "      <th>75%</th>\n",
       "      <td>17379.750000</td>\n",
       "      <td>11.000000</td>\n",
       "      <td>346.000000</td>\n",
       "    </tr>\n",
       "    <tr>\n",
       "      <th>max</th>\n",
       "      <td>19995.000000</td>\n",
       "      <td>14.000000</td>\n",
       "      <td>449.000000</td>\n",
       "    </tr>\n",
       "  </tbody>\n",
       "</table>\n",
       "</div>"
      ],
      "text/plain": [
       "            User ID   Page Views   Time Spent\n",
       "count   5000.000000  5000.000000  5000.000000\n",
       "mean   14925.159000     7.537600   242.512600\n",
       "std     2869.153773     4.022465   118.254153\n",
       "min    10001.000000     1.000000    40.000000\n",
       "25%    12456.250000     4.000000   137.000000\n",
       "50%    14858.500000     8.000000   243.000000\n",
       "75%    17379.750000    11.000000   346.000000\n",
       "max    19995.000000    14.000000   449.000000"
      ]
     },
     "execution_count": 9,
     "metadata": {},
     "output_type": "execute_result"
    }
   ],
   "source": [
    "df.describe()"
   ]
  },
  {
   "cell_type": "code",
   "execution_count": 13,
   "id": "14f8121c-2290-49dd-9c7e-e747a03f4321",
   "metadata": {},
   "outputs": [
    {
     "data": {
      "text/plain": [
       "1    5000\n",
       "Name: Group, dtype: int64"
      ]
     },
     "execution_count": 13,
     "metadata": {},
     "output_type": "execute_result"
    }
   ],
   "source": [
    "# Check the distribution of unique groups for each user\n",
    "double_variant_count = df.groupby('User ID')['Group'].nunique().value_counts()\n",
    "double_variant_count"
   ]
  },
  {
   "cell_type": "code",
   "execution_count": 19,
   "id": "bc0a2f0e-e648-44d7-aa5f-05ebd7df1222",
   "metadata": {},
   "outputs": [
    {
     "data": {
      "text/html": [
       "<div>\n",
       "<style scoped>\n",
       "    .dataframe tbody tr th:only-of-type {\n",
       "        vertical-align: middle;\n",
       "    }\n",
       "\n",
       "    .dataframe tbody tr th {\n",
       "        vertical-align: top;\n",
       "    }\n",
       "\n",
       "    .dataframe thead th {\n",
       "        text-align: right;\n",
       "    }\n",
       "</style>\n",
       "<table border=\"1\" class=\"dataframe\">\n",
       "  <thead>\n",
       "    <tr style=\"text-align: right;\">\n",
       "      <th></th>\n",
       "      <th>User ID</th>\n",
       "      <th>Group</th>\n",
       "      <th>Page Views</th>\n",
       "      <th>Time Spent</th>\n",
       "      <th>Conversion</th>\n",
       "      <th>Device</th>\n",
       "      <th>Location</th>\n",
       "    </tr>\n",
       "  </thead>\n",
       "  <tbody>\n",
       "    <tr>\n",
       "      <th>0</th>\n",
       "      <td>14292</td>\n",
       "      <td>B</td>\n",
       "      <td>3</td>\n",
       "      <td>424</td>\n",
       "      <td>0</td>\n",
       "      <td>Mobile</td>\n",
       "      <td>Northern Ireland</td>\n",
       "    </tr>\n",
       "    <tr>\n",
       "      <th>1</th>\n",
       "      <td>11682</td>\n",
       "      <td>A</td>\n",
       "      <td>9</td>\n",
       "      <td>342</td>\n",
       "      <td>0</td>\n",
       "      <td>Mobile</td>\n",
       "      <td>Scotland</td>\n",
       "    </tr>\n",
       "    <tr>\n",
       "      <th>2</th>\n",
       "      <td>19825</td>\n",
       "      <td>A</td>\n",
       "      <td>2</td>\n",
       "      <td>396</td>\n",
       "      <td>0</td>\n",
       "      <td>Desktop</td>\n",
       "      <td>Northern Ireland</td>\n",
       "    </tr>\n",
       "    <tr>\n",
       "      <th>3</th>\n",
       "      <td>16080</td>\n",
       "      <td>B</td>\n",
       "      <td>4</td>\n",
       "      <td>318</td>\n",
       "      <td>0</td>\n",
       "      <td>Desktop</td>\n",
       "      <td>Wales</td>\n",
       "    </tr>\n",
       "    <tr>\n",
       "      <th>4</th>\n",
       "      <td>18851</td>\n",
       "      <td>A</td>\n",
       "      <td>1</td>\n",
       "      <td>338</td>\n",
       "      <td>1</td>\n",
       "      <td>Desktop</td>\n",
       "      <td>Scotland</td>\n",
       "    </tr>\n",
       "  </tbody>\n",
       "</table>\n",
       "</div>"
      ],
      "text/plain": [
       "   User ID Group  Page Views  Time Spent  Conversion   Device  \\\n",
       "0    14292     B           3         424           0   Mobile   \n",
       "1    11682     A           9         342           0   Mobile   \n",
       "2    19825     A           2         396           0  Desktop   \n",
       "3    16080     B           4         318           0  Desktop   \n",
       "4    18851     A           1         338           1  Desktop   \n",
       "\n",
       "           Location  \n",
       "0  Northern Ireland  \n",
       "1          Scotland  \n",
       "2  Northern Ireland  \n",
       "3             Wales  \n",
       "4          Scotland  "
      ]
     },
     "execution_count": 19,
     "metadata": {},
     "output_type": "execute_result"
    }
   ],
   "source": [
    "df.head()"
   ]
  },
  {
   "cell_type": "code",
   "execution_count": 21,
   "id": "5ea55796-9fba-4731-b0a4-e34fce7cc09e",
   "metadata": {},
   "outputs": [
    {
     "data": {
      "text/html": [
       "<div>\n",
       "<style scoped>\n",
       "    .dataframe tbody tr th:only-of-type {\n",
       "        vertical-align: middle;\n",
       "    }\n",
       "\n",
       "    .dataframe tbody tr th {\n",
       "        vertical-align: top;\n",
       "    }\n",
       "\n",
       "    .dataframe thead th {\n",
       "        text-align: right;\n",
       "    }\n",
       "</style>\n",
       "<table border=\"1\" class=\"dataframe\">\n",
       "  <thead>\n",
       "    <tr style=\"text-align: right;\">\n",
       "      <th></th>\n",
       "      <th>Group</th>\n",
       "      <th>Page Views</th>\n",
       "      <th>Time Spent</th>\n",
       "      <th>Conversion</th>\n",
       "    </tr>\n",
       "  </thead>\n",
       "  <tbody>\n",
       "    <tr>\n",
       "      <th>0</th>\n",
       "      <td>A</td>\n",
       "      <td>7.581580</td>\n",
       "      <td>241.733227</td>\n",
       "      <td>0.053990</td>\n",
       "    </tr>\n",
       "    <tr>\n",
       "      <th>1</th>\n",
       "      <td>B</td>\n",
       "      <td>7.492946</td>\n",
       "      <td>243.303910</td>\n",
       "      <td>0.140669</td>\n",
       "    </tr>\n",
       "  </tbody>\n",
       "</table>\n",
       "</div>"
      ],
      "text/plain": [
       "  Group  Page Views  Time Spent  Conversion\n",
       "0     A    7.581580  241.733227    0.053990\n",
       "1     B    7.492946  243.303910    0.140669"
      ]
     },
     "execution_count": 21,
     "metadata": {},
     "output_type": "execute_result"
    }
   ],
   "source": [
    "group_summary = df.groupby('Group').agg({\n",
    "    'Page Views': 'mean',\n",
    "    'Time Spent': 'mean',\n",
    "    'Conversion': 'mean'\n",
    "}).reset_index() \n",
    "group_summary"
   ]
  },
  {
   "cell_type": "code",
   "execution_count": 23,
   "id": "e4d906e3-c811-4222-ae53-8a69ce5bbf95",
   "metadata": {
    "scrolled": true
   },
   "outputs": [
    {
     "data": {
      "image/png": "[encoded data removed]",
      "text/plain": [
       "<Figure size 640x480 with 1 Axes>"
      ]
     },
     "metadata": {},
     "output_type": "display_data"
    }
   ],
   "source": [
    "sns.barplot(x='Group', y='Page Views', data=df)\n",
    "plt.title('Average Page Views by Group')\n",
    "plt.ylabel('Avg Page Views')\n",
    "plt.show()"
   ]
  },
  {
   "cell_type": "code",
   "execution_count": 29,
   "id": "bad8cf04-f12e-417e-b429-9f7eeab77921",
   "metadata": {},
   "outputs": [
    {
     "data": {
      "text/plain": [
       "<function matplotlib.pyplot.show(close=None, block=None)>"
      ]
     },
     "execution_count": 29,
     "metadata": {},
     "output_type": "execute_result"
    },
    {
     "data": {
      "image/png": "[encoded data removed]",
      "text/plain": [
       "<Figure size 640x480 with 1 Axes>"
      ]
     },
     "metadata": {},
     "output_type": "display_data"
    }
   ],
   "source": [
    "sns.barplot(x=\"Group\", y=\"Time Spent\", data = df) \n",
    "plt.title(\"Average Time Spent by Group\")\n",
    "plt.ylabel(\"Avg Time Spent\")\n",
    "plt.show"
   ]
  },
  {
   "cell_type": "code",
   "execution_count": 15,
   "id": "cf07fcc9-b965-4bed-8748-d1dce651dde7",
   "metadata": {},
   "outputs": [],
   "source": [
    "df['Conversion'] = df['Conversion'].map({'Yes': 1, 'No': 0})"
   ]
  },
  {
   "cell_type": "code",
   "execution_count": 31,
   "id": "664a121a-0616-498f-ab4a-868fbf45d584",
   "metadata": {},
   "outputs": [
    {
     "data": {
      "text/plain": [
       "<function matplotlib.pyplot.show(close=None, block=None)>"
      ]
     },
     "execution_count": 31,
     "metadata": {},
     "output_type": "execute_result"
    },
    {
     "data": {
      "image/png": "[encoded data removed]",
      "text/plain": [
       "<Figure size 640x480 with 1 Axes>"
      ]
     },
     "metadata": {},
     "output_type": "display_data"
    }
   ],
   "source": [
    "sns.barplot(x=\"Group\", y=\"Conversion\", data = df) \n",
    "plt.title(\"Average Conversion Rate by Group\")\n",
    "plt.ylabel(\"Avg Conversion Rate\")\n",
    "plt.show"
   ]
  },
  {
   "cell_type": "code",
   "execution_count": 33,
   "id": "7d2d95fa-8670-4199-aa61-f098897e475c",
   "metadata": {},
   "outputs": [
    {
     "data": {
      "text/plain": [
       "<Axes: xlabel='Group', ylabel='Page Views'>"
      ]
     },
     "execution_count": 33,
     "metadata": {},
     "output_type": "execute_result"
    },
    {
     "data": {
      "image/png": "[encoded data removed]",
      "text/plain": [
       "<Figure size 640x480 with 1 Axes>"
      ]
     },
     "metadata": {},
     "output_type": "display_data"
    }
   ],
   "source": [
    "sns.boxplot(x='Group', y='Page Views', data=df)"
   ]
  },
  {
   "cell_type": "code",
   "execution_count": 37,
   "id": "3a2585ed-cbdf-4083-bbb0-be1524c4cea8",
   "metadata": {},
   "outputs": [],
   "source": [
    "from scipy.stats import ttest_ind"
   ]
  },
  {
   "cell_type": "code",
   "execution_count": null,
   "id": "ac0ab49e-9ccb-488f-9b29-cfb09fe6b3c5",
   "metadata": {},
   "outputs": [],
   "source": [
    "# Null hypothesis (H0): The mean of page views is the same between Group A and Group B.\n",
    "# Alternative hypothesis (H1): The mean of page views is significantly different between Group A and Group B.\n",
    "\n",
    "# We proceed with an independent samples t-test.\n",
    "# If the p-value is less than 0.05, we reject the null hypothesis.\n",
    "# This would indicate a statistically significant difference in page views between Group A and Group B."
   ]
  },
  {
   "cell_type": "code",
   "execution_count": 39,
   "id": "c75fba69-aca3-4a75-aac4-92d007a4bc3c",
   "metadata": {},
   "outputs": [],
   "source": [
    "# Extract page views information to two separate variables \n",
    "A_views = df[df['Group'] == 'A']['Page Views']\n",
    "B_views = df[df['Group'] == 'B']['Page Views']"
   ]
  },
  {
   "cell_type": "code",
   "execution_count": 41,
   "id": "6219e305-fc68-4ef5-b446-331cf099e3ab",
   "metadata": {},
   "outputs": [],
   "source": [
    "# Proformed Welch's t-test \n",
    "t_stat, p_val = ttest_ind(A_views, B_views, equal_var=False)"
   ]
  },
  {
   "cell_type": "code",
   "execution_count": 43,
   "id": "10e056b1-8272-4b9f-91cd-5c4052ac92e3",
   "metadata": {},
   "outputs": [
    {
     "name": "stdout",
     "output_type": "stream",
     "text": [
      "T-statistic: 0.7792\n",
      "P-value: 0.4359\n"
     ]
    }
   ],
   "source": [
    "print(f\"T-statistic: {t_stat:.4f}\")\n",
    "print(f\"P-value: {p_val:.4f}\")"
   ]
  },
  {
   "cell_type": "code",
   "execution_count": null,
   "id": "535cb3a8-a94a-4cf0-9965-6c2653f09a24",
   "metadata": {},
   "outputs": [],
   "source": [
    "# P-value is larger than 0.05, therefore we do not have enough evidence to reject the null hypothesis\n",
    "# The results indicate there is no significant  difference in page reviews between Group A and Group B. "
   ]
  },
  {
   "cell_type": "code",
   "execution_count": null,
   "id": "d890b69d-86fa-4a49-8586-475094a7830e",
   "metadata": {},
   "outputs": [],
   "source": [
    "# We do the same process on \"Time Spent\"."
   ]
  },
  {
   "cell_type": "code",
   "execution_count": 45,
   "id": "93c0a868-ccb2-46e7-86d9-bc39189ef531",
   "metadata": {},
   "outputs": [],
   "source": [
    "A_time = df[df['Group'] == 'A']['Time Spent']\n",
    "B_time = df[df['Group'] == 'B']['Time Spent']"
   ]
  },
  {
   "cell_type": "code",
   "execution_count": 47,
   "id": "0ab338ec-d539-4b89-8d64-079f7714c059",
   "metadata": {},
   "outputs": [],
   "source": [
    "t_stat, p_val = ttest_ind(A_time, B_time, equal_var=False)"
   ]
  },
  {
   "cell_type": "code",
   "execution_count": 49,
   "id": "30bd0d86-98f6-4635-8d65-c0b214bd2555",
   "metadata": {},
   "outputs": [
    {
     "name": "stdout",
     "output_type": "stream",
     "text": [
      "T-statistic: -0.4695\n",
      "P-value: 0.6387\n"
     ]
    }
   ],
   "source": [
    "print(f\"T-statistic: {t_stat:.4f}\")\n",
    "print(f\"P-value: {p_val:.4f}\")"
   ]
  },
  {
   "cell_type": "code",
   "execution_count": null,
   "id": "a0b06a96-fa7f-4b45-b1aa-1fec8cd2583d",
   "metadata": {},
   "outputs": [],
   "source": [
    "#Conclusion: There is no statistically significant difference in time spent between Group A (white background) and Group B (black background)."
   ]
  },
  {
   "cell_type": "code",
   "execution_count": null,
   "id": "2c0e4598-a06b-47a7-b3c6-fc939bd0477e",
   "metadata": {},
   "outputs": [],
   "source": [
    "# The key difference is in the type of variable:\n",
    "# \"Page Views\" and \"Time Spent\" are continuous variables, so an independent t-test is appropriate.\n",
    "# \"Conversion\" is a binary variable (Yes/No), so an independent z-test for proportions is appropriate."
   ]
  },
  {
   "cell_type": "code",
   "execution_count": 111,
   "id": "ad81ed7e-6392-4fce-8c1d-6f8d31cb042a",
   "metadata": {},
   "outputs": [
    {
     "name": "stdout",
     "output_type": "stream",
     "text": [
      "       sum  count\n",
      "Group            \n",
      "A      136   2519\n",
      "B      349   2481\n"
     ]
    }
   ],
   "source": [
    "conversion_counts = df.groupby('Group')['Conversion'].agg(['sum', 'count'])\n",
    "print(conversion_counts)"
   ]
  },
  {
   "cell_type": "code",
   "execution_count": 113,
   "id": "dc76b02a-3662-44bd-8903-3801db59ffbe",
   "metadata": {},
   "outputs": [],
   "source": [
    "# Count is the total number of users in Group A and B\n",
    "# Sum is the conversion count of each group\n",
    "\n",
    "# In this table, Group A has a total of 2519 users, and 136 of them has converted. \n",
    "# Group B has a total of 2481 users, and 349 of them has converted."
   ]
  },
  {
   "cell_type": "code",
   "execution_count": 115,
   "id": "107c7540-2ee7-4422-bee9-d49c2e3a80a1",
   "metadata": {},
   "outputs": [],
   "source": [
    "from statsmodels.stats.proportion import proportions_ztest"
   ]
  },
  {
   "cell_type": "code",
   "execution_count": 117,
   "id": "714d0591-467c-4e52-84b2-568d027bff15",
   "metadata": {},
   "outputs": [],
   "source": [
    "successes = conversion_counts['sum'].values\n",
    "total_number = conversion_counts['count'].values"
   ]
  },
  {
   "cell_type": "code",
   "execution_count": 119,
   "id": "ee6e0679-ad61-4f79-99cb-0262c77203cb",
   "metadata": {},
   "outputs": [],
   "source": [
    "z_stat, p_val = proportions_ztest(count=successes, nobs=total_number)"
   ]
  },
  {
   "cell_type": "code",
   "execution_count": 121,
   "id": "b63462a3-7872-44bb-a290-da404a3b5129",
   "metadata": {},
   "outputs": [
    {
     "name": "stdout",
     "output_type": "stream",
     "text": [
      "Z-statistic: -10.3545\n",
      "P-value: 3.99e-25\n"
     ]
    }
   ],
   "source": [
    "print(f\"Z-statistic: {z_stat:.4f}\")\n",
    "print(f\"P-value: {p_val:.2e}\")"
   ]
  },
  {
   "cell_type": "code",
   "execution_count": 66,
   "id": "12ae7cc1-d3fe-487d-857f-9304292717d8",
   "metadata": {},
   "outputs": [
    {
     "data": {
      "image/png": "[encoded data removed]",
      "text/plain": [
       "<Figure size 640x480 with 1 Axes>"
      ]
     },
     "metadata": {},
     "output_type": "display_data"
    }
   ],
   "source": [
    "import matplotlib.pyplot as plt\n",
    "\n",
    "conversion_rate = df.groupby('Group')['Conversion'].mean().reset_index()\n",
    "\n",
    "sns.barplot(x='Group', y='Conversion', data=conversion_rate)\n",
    "plt.title('Conversion Rate by Group')\n",
    "plt.ylabel('Conversion Rate')\n",
    "plt.ylim(0, 0.2)\n",
    "\n",
    "for i, row in conversion_rate.iterrows():\n",
    "    plt.text(i, row['Conversion'] + 0.005, f\"{row['Conversion']:.2%}\", ha='center', fontsize=12)\n",
    "plt.show()   "
   ]
  },
  {
   "cell_type": "code",
   "execution_count": null,
   "id": "62473cbb-9028-44e2-ad9e-d4cfe4d44502",
   "metadata": {},
   "outputs": [],
   "source": [
    "# Conclusion: there is a significant difference in conversion rate between Group A and Group B. A darker background has a significant \n",
    "# higher conversion rate than a white background."
   ]
  },
  {
   "cell_type": "code",
   "execution_count": null,
   "id": "46217289-a12d-41b1-bf6c-086e5b5af8ad",
   "metadata": {},
   "outputs": [],
   "source": [
    "# Now we look at other variables: Device and Location.\n",
    "# First, we want to explore whether different devices affect the conversion rate.\n",
    "# Specifically, we want to compare whether there is a significant difference in conversion rates\n",
    "# between Desktop users and Mobile users."
   ]
  },
  {
   "cell_type": "code",
   "execution_count": 85,
   "id": "d2f7d6ff-2fde-4888-87e8-ae7578800cf7",
   "metadata": {},
   "outputs": [
    {
     "name": "stdout",
     "output_type": "stream",
     "text": [
      "Group       A     B\n",
      "Device             \n",
      "Desktop  1244  1294\n",
      "Mobile   1275  1187\n"
     ]
    }
   ],
   "source": [
    "import seaborn as sns\n",
    "import matplotlib.pyplot as plt\n",
    "\n",
    "# create a contingency table of device and group \n",
    "device_table = pd.crosstab(df[\"Device\"], df[\"Group\"])\n",
    "print(device_table)"
   ]
  },
  {
   "cell_type": "code",
   "execution_count": 91,
   "id": "9d72b2be-9c50-4d37-981e-d234e7fa327f",
   "metadata": {},
   "outputs": [
    {
     "data": {
      "text/plain": [
       "True"
      ]
     },
     "execution_count": 91,
     "metadata": {},
     "output_type": "execute_result"
    }
   ],
   "source": [
    "# Check if each user has a unique device \n",
    "device_per_user = df.groupby(\"User ID\")[\"Device\"].nunique()\n",
    "all_unique_device = (device_per_user == 1).all()\n",
    "all_unique_device "
   ]
  },
  {
   "cell_type": "code",
   "execution_count": 95,
   "id": "62cb86c7-0ec2-4e88-9868-257d9d93bbe7",
   "metadata": {},
   "outputs": [
    {
     "name": "stdout",
     "output_type": "stream",
     "text": [
      "         sum  count\n",
      "Device             \n",
      "Desktop  253   2538\n",
      "Mobile   232   2462\n",
      "Z-statistic: 0.6513\n",
      "P-value: 0.5149\n"
     ]
    }
   ],
   "source": [
    "# Proformed z test \n",
    "device_conversion = df.groupby('Device')['Conversion'].agg(['sum', 'count'])\n",
    "print(device_conversion)\n",
    "\n",
    "from statsmodels.stats.proportion import proportions_ztest\n",
    "successes = device_conversion['sum'].values\n",
    "totals = device_conversion['count'].values\n",
    "z_stat, p_val = proportions_ztest(count=successes, nobs=totals)\n",
    "\n",
    "print(f\"Z-statistic: {z_stat:.4f}\")\n",
    "print(f\"P-value: {p_val:.4f}\")"
   ]
  },
  {
   "cell_type": "code",
   "execution_count": null,
   "id": "fe816d8d-55c6-4fb6-9f07-e2daff498778",
   "metadata": {},
   "outputs": [],
   "source": [
    "# p is greater than 0.05, there is no enough evidence to reject null hypothesis\n",
    "# There is no significant digfference in conversion rate between desktop and mobile users "
   ]
  },
  {
   "cell_type": "code",
   "execution_count": 97,
   "id": "949eacb2-0f42-4ea8-94c7-5778d656bfe8",
   "metadata": {},
   "outputs": [
    {
     "data": {
      "image/png": "[encoded data removed]",
      "text/plain": [
       "<Figure size 800x600 with 1 Axes>"
      ]
     },
     "metadata": {},
     "output_type": "display_data"
    }
   ],
   "source": [
    "conv_by_device = df.groupby(['Group', 'Device'])['Conversion'].mean().reset_index()\n",
    "\n",
    "# create barplot \n",
    "plt.figure(figsize=(8, 6))\n",
    "ax = sns.barplot(x='Device', y='Conversion', hue='Group', data=conv_by_device)\n",
    "plt.title('Conversion Rate by Group and Device')\n",
    "plt.ylabel('Conversion Rate')\n",
    "plt.ylim(0, 0.2)\n",
    "\n",
    "for p in ax.patches:\n",
    "    height = p.get_height()\n",
    "    ax.text(\n",
    "        x=p.get_x() + p.get_width() / 2,\n",
    "        y=height + 0.005,\n",
    "        s=f'{height:.2%}',\n",
    "        ha='center',\n",
    "        fontsize=10\n",
    "    )\n",
    "\n",
    "plt.legend(title='Group')\n",
    "plt.tight_layout()\n",
    "plt.show()"
   ]
  },
  {
   "cell_type": "code",
   "execution_count": null,
   "id": "2aeb90fd-63b1-4565-bfc8-015542c6f7da",
   "metadata": {},
   "outputs": [],
   "source": [
    "# First, we want to explore whether different locations affect the conversion rate.\n",
    "# Specifically, we want to compare whether there is a significant difference in conversion rates\n",
    "# between users located in different location."
   ]
  },
  {
   "cell_type": "code",
   "execution_count": 101,
   "id": "d8f5b6de-ca5f-44c1-b531-9f2fc1ff58ec",
   "metadata": {},
   "outputs": [
    {
     "data": {
      "text/plain": [
       "True"
      ]
     },
     "execution_count": 101,
     "metadata": {},
     "output_type": "execute_result"
    }
   ],
   "source": [
    "# check if all users have a unique location \n",
    "location_per_user = df.groupby(\"User ID\")[\"Location\"].nunique()\n",
    "all_unique_location = ( location_per_user == 1).all()\n",
    "all_unique_location"
   ]
  },
  {
   "cell_type": "code",
   "execution_count": 107,
   "id": "fa07e397-583f-462b-9292-6d2458d4bc6c",
   "metadata": {},
   "outputs": [
    {
     "name": "stdout",
     "output_type": "stream",
     "text": [
      "Chi-square statistic: 4.9349\n",
      "P-value: 0.1766\n"
     ]
    }
   ],
   "source": [
    "# Conduct Chi-Square test (Why?)\n",
    "# Because the z-test is only applicable when comparing two independent groups.\n",
    "# Since we are comparing conversion rates across more than two locations,\n",
    "# the Chi-Square test for independence is more appropriate.\n",
    "\n",
    "from scipy.stats import chi2_contingency\n",
    "\n",
    "# Create a contingency table of Location and Conversion\n",
    "location_table = pd.crosstab(df['Location'], df['Conversion'])\n",
    "\n",
    "# Perform Chi-Square test\n",
    "chi2, p, dof, expected = chi2_contingency(location_table)\n",
    "\n",
    "print(\"Chi-square statistic:\", round(chi2, 4))\n",
    "print(\"P-value:\", round(p, 4))"
   ]
  },
  {
   "cell_type": "code",
   "execution_count": null,
   "id": "c3b140c3-dfe5-43e4-b3ac-a41d8bbffc6f",
   "metadata": {},
   "outputs": [],
   "source": [
    "# The p-value is greater than 0.05.\n",
    "# Therefore, we fail to reject the null hypothesis.\n",
    "# This indicates that there is no statistically significant difference in conversion rates among different locations."
   ]
  },
  {
   "cell_type": "code",
   "execution_count": 109,
   "id": "f74b37fd-645d-4bcf-933b-575de0235b49",
   "metadata": {},
   "outputs": [
    {
     "data": {
      "image/png": "[encoded data removed]",
      "text/plain": [
       "<Figure size 800x600 with 1 Axes>"
      ]
     },
     "metadata": {},
     "output_type": "display_data"
    }
   ],
   "source": [
    "conv_by_loc = df.groupby(['Group', 'Location'])['Conversion'].mean().reset_index()\n",
    "\n",
    "plt.figure(figsize=(8, 6))\n",
    "ax = sns.barplot(x='Location', y='Conversion', hue='Group', data=conv_by_loc)\n",
    "plt.title('Conversion Rate by Group and Location')\n",
    "plt.ylabel('Conversion Rate')\n",
    "plt.ylim(0, 0.2)\n",
    "\n",
    "for p in ax.patches:\n",
    "    height = p.get_height()\n",
    "    ax.text(\n",
    "        x=p.get_x() + p.get_width() / 2,\n",
    "        y=height + 0.005,\n",
    "        s=f'{height:.2%}',\n",
    "        ha='center',\n",
    "        fontsize=10\n",
    "    )\n",
    "\n",
    "plt.legend(title='Group')\n",
    "plt.tight_layout()\n",
    "plt.show()"
   ]
  },
  {
   "cell_type": "code",
   "execution_count": null,
   "id": "9a6ef1fb-b473-45e7-9540-008041e3de50",
   "metadata": {},
   "outputs": [],
   "source": []
  }
 ],
 "metadata": {
  "kernelspec": {
   "display_name": "Python [conda env:base] *",
   "language": "python",
   "name": "conda-base-py"
  },
  "language_info": {
   "codemirror_mode": {
    "name": "ipython",
    "version": 3
   },
   "file_extension": ".py",
   "mimetype": "text/x-python",
   "name": "python",
   "nbconvert_exporter": "python",
   "pygments_lexer": "ipython3",
   "version": "3.11.5"
  }
 },
 "nbformat": 4,
 "nbformat_minor": 5
}
